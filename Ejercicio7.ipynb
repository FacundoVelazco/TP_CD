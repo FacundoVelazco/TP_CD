{
 "cells": [
  {
   "cell_type": "code",
   "execution_count": 24,
   "id": "initial_id",
   "metadata": {
    "collapsed": true,
    "ExecuteTime": {
     "end_time": "2023-10-14T17:53:25.631602Z",
     "start_time": "2023-10-14T17:53:25.611141Z"
    }
   },
   "outputs": [],
   "source": [
    "import numpy as np\n",
    "import pandas as pd\n",
    "import matplotlib.pyplot as plt"
   ]
  },
  {
   "cell_type": "code",
   "execution_count": 25,
   "outputs": [
    {
     "name": "stderr",
     "output_type": "stream",
     "text": [
      "/var/folders/py/f996dn15339gcpsqq98w6kd80000gn/T/ipykernel_80176/2403431140.py:1: DtypeWarning: Columns (6,7,8,9,10,11,12,13,14,15,16,17,18,19,20,21,22,23,24,25,26,27,28,29,30,31,32,33,34,35,36,37,38,39,40,41,42,43,44,45,46,47,48,49,50,51,52,53,54,55,56,57,58,59,60,61,62,63,64,65,66,67,68,69,70,71,72,73,74,75,76,77,78,79,80,81,82,83,84,85,86,87,88,89,90,91,92,93,94,95,96,97,98,99,100,101,111,112,113) have mixed types. Specify dtype option on import or set low_memory=False.\n",
      "  df_alumnos = pd.read_csv('Data/Base Aprender estudiantes 6 primaria 2022 – Muestral L y M.csv', sep=';')\n"
     ]
    }
   ],
   "source": [
    "df_alumnos = pd.read_csv('Data/Base Aprender estudiantes 6 primaria 2022 – Muestral L y M.csv', sep=';')"
   ],
   "metadata": {
    "collapsed": false,
    "ExecuteTime": {
     "end_time": "2023-10-14T17:53:26.736073Z",
     "start_time": "2023-10-14T17:53:25.616341Z"
    }
   },
   "id": "ac96f89451eaa7cf"
  },
  {
   "cell_type": "code",
   "execution_count": 26,
   "outputs": [],
   "source": [
    "df_alumnos = df_alumnos.iloc[:,[0, 106]]"
   ],
   "metadata": {
    "collapsed": false,
    "ExecuteTime": {
     "end_time": "2023-10-14T17:53:26.806953Z",
     "start_time": "2023-10-14T17:53:26.802688Z"
    }
   },
   "id": "b650facde58c160c"
  },
  {
   "cell_type": "code",
   "execution_count": 27,
   "outputs": [],
   "source": [
    "df_alumnos_sf = df_alumnos.loc[df_alumnos.jurisdiccion == 82]"
   ],
   "metadata": {
    "collapsed": false,
    "ExecuteTime": {
     "end_time": "2023-10-14T17:53:26.813802Z",
     "start_time": "2023-10-14T17:53:26.807699Z"
    }
   },
   "id": "bf0c20ec48f74334"
  },
  {
   "cell_type": "code",
   "execution_count": 28,
   "outputs": [
    {
     "name": "stderr",
     "output_type": "stream",
     "text": [
      "/var/folders/py/f996dn15339gcpsqq98w6kd80000gn/T/ipykernel_80176/2193564789.py:2: SettingWithCopyWarning: \n",
      "A value is trying to be set on a copy of a slice from a DataFrame\n",
      "\n",
      "See the caveats in the documentation: https://pandas.pydata.org/pandas-docs/stable/user_guide/indexing.html#returning-a-view-versus-a-copy\n",
      "  df_alumnos_sf.drop(['index','jurisdiccion'],axis=1,inplace=True)\n"
     ]
    }
   ],
   "source": [
    "df_alumnos_sf.reset_index(inplace=True)\n",
    "df_alumnos_sf.drop(['index','jurisdiccion'],axis=1,inplace=True)"
   ],
   "metadata": {
    "collapsed": false,
    "ExecuteTime": {
     "end_time": "2023-10-14T17:53:26.821569Z",
     "start_time": "2023-10-14T17:53:26.816266Z"
    }
   },
   "id": "2c5398e6e45ea3e4"
  },
  {
   "cell_type": "code",
   "execution_count": 29,
   "outputs": [
    {
     "data": {
      "text/plain": "     mdesemp\n0          3\n1          3\n2          2\n3          3\n4          3\n...      ...\n7375       2\n7376       1\n7377       2\n7380       1\n7381       4\n\n[7008 rows x 1 columns]",
      "text/html": "<div>\n<style scoped>\n    .dataframe tbody tr th:only-of-type {\n        vertical-align: middle;\n    }\n\n    .dataframe tbody tr th {\n        vertical-align: top;\n    }\n\n    .dataframe thead th {\n        text-align: right;\n    }\n</style>\n<table border=\"1\" class=\"dataframe\">\n  <thead>\n    <tr style=\"text-align: right;\">\n      <th></th>\n      <th>mdesemp</th>\n    </tr>\n  </thead>\n  <tbody>\n    <tr>\n      <th>0</th>\n      <td>3</td>\n    </tr>\n    <tr>\n      <th>1</th>\n      <td>3</td>\n    </tr>\n    <tr>\n      <th>2</th>\n      <td>2</td>\n    </tr>\n    <tr>\n      <th>3</th>\n      <td>3</td>\n    </tr>\n    <tr>\n      <th>4</th>\n      <td>3</td>\n    </tr>\n    <tr>\n      <th>...</th>\n      <td>...</td>\n    </tr>\n    <tr>\n      <th>7375</th>\n      <td>2</td>\n    </tr>\n    <tr>\n      <th>7376</th>\n      <td>1</td>\n    </tr>\n    <tr>\n      <th>7377</th>\n      <td>2</td>\n    </tr>\n    <tr>\n      <th>7380</th>\n      <td>1</td>\n    </tr>\n    <tr>\n      <th>7381</th>\n      <td>4</td>\n    </tr>\n  </tbody>\n</table>\n<p>7008 rows × 1 columns</p>\n</div>"
     },
     "execution_count": 29,
     "metadata": {},
     "output_type": "execute_result"
    }
   ],
   "source": [
    "df_alumnos_sf = df_alumnos_sf.replace(' ',np.NaN)\n",
    "df_alumnos_sf.dropna()"
   ],
   "metadata": {
    "collapsed": false,
    "ExecuteTime": {
     "end_time": "2023-10-14T17:53:26.849226Z",
     "start_time": "2023-10-14T17:53:26.820631Z"
    }
   },
   "id": "a70f4e9b01d78208"
  },
  {
   "cell_type": "code",
   "execution_count": 30,
   "outputs": [],
   "source": [
    "df_alumnos_sf_desGroup = df_alumnos_sf.groupby(['mdesemp'])['mdesemp'].count()"
   ],
   "metadata": {
    "collapsed": false,
    "ExecuteTime": {
     "end_time": "2023-10-14T17:53:26.856389Z",
     "start_time": "2023-10-14T17:53:26.831502Z"
    }
   },
   "id": "ec509230cf56d868"
  },
  {
   "cell_type": "code",
   "execution_count": 31,
   "outputs": [
    {
     "data": {
      "text/plain": "mdesemp\n1    1060\n2    1495\n3    3237\n4    1216\nName: mdesemp, dtype: int64"
     },
     "execution_count": 31,
     "metadata": {},
     "output_type": "execute_result"
    }
   ],
   "source": [
    "df_alumnos_sf_desGroup"
   ],
   "metadata": {
    "collapsed": false,
    "ExecuteTime": {
     "end_time": "2023-10-14T17:53:26.856829Z",
     "start_time": "2023-10-14T17:53:26.835067Z"
    }
   },
   "id": "88fe17334181cdba"
  },
  {
   "cell_type": "code",
   "execution_count": 31,
   "outputs": [],
   "source": [],
   "metadata": {
    "collapsed": false,
    "ExecuteTime": {
     "end_time": "2023-10-14T17:53:26.877848Z",
     "start_time": "2023-10-14T17:53:26.838301Z"
    }
   },
   "id": "817c2c2f1ba25b0e"
  }
 ],
 "metadata": {
  "kernelspec": {
   "display_name": "Python 3",
   "language": "python",
   "name": "python3"
  },
  "language_info": {
   "codemirror_mode": {
    "name": "ipython",
    "version": 2
   },
   "file_extension": ".py",
   "mimetype": "text/x-python",
   "name": "python",
   "nbconvert_exporter": "python",
   "pygments_lexer": "ipython2",
   "version": "2.7.6"
  }
 },
 "nbformat": 4,
 "nbformat_minor": 5
}
