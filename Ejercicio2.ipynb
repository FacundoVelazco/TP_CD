{
 "cells": [
  {
   "cell_type": "code",
   "execution_count": null,
   "id": "initial_id",
   "metadata": {
    "collapsed": true
   },
   "outputs": [],
   "source": [
    "import pandas as pd\n",
    "import numpy as np\n",
    "import matplotlib.pyplot as plt"
   ]
  },
  {
   "cell_type": "code",
   "execution_count": null,
   "outputs": [],
   "source": [
    "df_alumnos = pd.read_csv('Data/Base Aprender estudiantes 6 primaria 2022 – Muestral L y M.csv',sep=';')"
   ],
   "metadata": {
    "collapsed": false
   },
   "id": "27d385d7df46eca"
  },
  {
   "cell_type": "code",
   "execution_count": null,
   "outputs": [],
   "source": [
    "ages = df_alumnos.iloc[:,111]\n",
    "\n",
    "ages = ages.replace(-9,np.nan)\n",
    "ages = ages.replace('-9',np.nan)\n",
    "ages = ages.replace(' ',np.nan)\n",
    "\n",
    "ages = ages.dropna()"
   ],
   "metadata": {
    "collapsed": false
   },
   "id": "a58749eaf1b240b5"
  },
  {
   "cell_type": "code",
   "execution_count": null,
   "outputs": [],
   "source": [
    "ages = ages.replace('1',1)\n",
    "ages = ages.replace('2',2)\n",
    "ages = ages.replace('3',3)\n",
    "ages = ages.replace('4',4)\n",
    "ages = ages.replace('5',5)"
   ],
   "metadata": {
    "collapsed": false
   },
   "id": "60cb082c732b7804"
  },
  {
   "cell_type": "code",
   "execution_count": null,
   "outputs": [],
   "source": [
    "pop_size = ages.size\n",
    "\n",
    "unique_values = ages.unique()\n",
    "sub_sets_size = {}\n",
    "for item in unique_values:\n",
    "    sub_sets_size[str(item)] = ages.loc[ages == item].size"
   ],
   "metadata": {
    "collapsed": false
   },
   "id": "30acb4e82853d7e4"
  },
  {
   "cell_type": "code",
   "execution_count": null,
   "outputs": [],
   "source": [
    "pop_under_13 = pop_size - sub_sets_size['5']\n",
    "pop_above_13 = sub_sets_size['5']"
   ],
   "metadata": {
    "collapsed": false
   },
   "id": "2375e636b19c74d"
  },
  {
   "cell_type": "code",
   "execution_count": null,
   "outputs": [],
   "source": [
    "fig,ax = plt.subplots()\n",
    "ax.pie([pop_under_13,pop_above_13],labels=[\"Estudiantes de 13 años o menores\",\"Estudiantes mayores de 13\"],autopct='%1.1f%%',shadow=True)"
   ],
   "metadata": {
    "collapsed": false
   },
   "id": "4293fef147b30906"
  }
 ],
 "metadata": {
  "kernelspec": {
   "display_name": "Python 3",
   "language": "python",
   "name": "python3"
  },
  "language_info": {
   "codemirror_mode": {
    "name": "ipython",
    "version": 2
   },
   "file_extension": ".py",
   "mimetype": "text/x-python",
   "name": "python",
   "nbconvert_exporter": "python",
   "pygments_lexer": "ipython2",
   "version": "2.7.6"
  }
 },
 "nbformat": 4,
 "nbformat_minor": 5
}
