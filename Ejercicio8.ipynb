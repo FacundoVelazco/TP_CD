{
 "cells": [
  {
   "cell_type": "code",
   "execution_count": 1,
   "outputs": [],
   "source": [
    "import numpy as np\n",
    "import pandas as pd\n",
    "import matplotlib.pyplot as plt"
   ],
   "metadata": {
    "collapsed": false,
    "ExecuteTime": {
     "end_time": "2023-10-14T22:01:38.708858Z",
     "start_time": "2023-10-14T22:01:37.884402Z"
    }
   },
   "id": "73153031e366191e"
  },
  {
   "cell_type": "code",
   "execution_count": 2,
   "outputs": [
    {
     "name": "stderr",
     "output_type": "stream",
     "text": [
      "/var/folders/py/f996dn15339gcpsqq98w6kd80000gn/T/ipykernel_84228/2403431140.py:1: DtypeWarning: Columns (6,7,8,9,10,11,12,13,14,15,16,17,18,19,20,21,22,23,24,25,26,27,28,29,30,31,32,33,34,35,36,37,38,39,40,41,42,43,44,45,46,47,48,49,50,51,52,53,54,55,56,57,58,59,60,61,62,63,64,65,66,67,68,69,70,71,72,73,74,75,76,77,78,79,80,81,82,83,84,85,86,87,88,89,90,91,92,93,94,95,96,97,98,99,100,101,111,112,113) have mixed types. Specify dtype option on import or set low_memory=False.\n",
      "  df_alumnos = pd.read_csv('Data/Base Aprender estudiantes 6 primaria 2022 – Muestral L y M.csv', sep=';')\n"
     ]
    }
   ],
   "source": [
    "df_alumnos = pd.read_csv('Data/Base Aprender estudiantes 6 primaria 2022 – Muestral L y M.csv', sep=';')"
   ],
   "metadata": {
    "collapsed": false,
    "ExecuteTime": {
     "end_time": "2023-10-14T22:01:41.456737Z",
     "start_time": "2023-10-14T22:01:39.406310Z"
    }
   },
   "id": "bc69336cd4cdd639"
  },
  {
   "cell_type": "code",
   "execution_count": 10,
   "id": "initial_id",
   "metadata": {
    "collapsed": true,
    "ExecuteTime": {
     "end_time": "2023-10-14T22:03:50.528590Z",
     "start_time": "2023-10-14T22:03:50.478497Z"
    }
   },
   "outputs": [
    {
     "name": "stderr",
     "output_type": "stream",
     "text": [
      "/var/folders/py/f996dn15339gcpsqq98w6kd80000gn/T/ipykernel_84228/4236972948.py:2: SettingWithCopyWarning: \n",
      "A value is trying to be set on a copy of a slice from a DataFrame.\n",
      "Try using .loc[row_indexer,col_indexer] = value instead\n",
      "\n",
      "See the caveats in the documentation: https://pandas.pydata.org/pandas-docs/stable/user_guide/indexing.html#returning-a-view-versus-a-copy\n",
      "  seleccion['ambito'] = np.where(seleccion['ambito'] == 1, True, False)\n",
      "/var/folders/py/f996dn15339gcpsqq98w6kd80000gn/T/ipykernel_84228/4236972948.py:3: SettingWithCopyWarning: \n",
      "A value is trying to be set on a copy of a slice from a DataFrame.\n",
      "Try using .loc[row_indexer,col_indexer] = value instead\n",
      "\n",
      "See the caveats in the documentation: https://pandas.pydata.org/pandas-docs/stable/user_guide/indexing.html#returning-a-view-versus-a-copy\n",
      "  seleccion['edadA_junio2022'] = pd.to_numeric(seleccion['edadA_junio2022'], errors='coerce')\n",
      "/var/folders/py/f996dn15339gcpsqq98w6kd80000gn/T/ipykernel_84228/4236972948.py:4: SettingWithCopyWarning: \n",
      "A value is trying to be set on a copy of a slice from a DataFrame.\n",
      "Try using .loc[row_indexer,col_indexer] = value instead\n",
      "\n",
      "See the caveats in the documentation: https://pandas.pydata.org/pandas-docs/stable/user_guide/indexing.html#returning-a-view-versus-a-copy\n",
      "  seleccion['edadA_junio2022'] = ((seleccion['edadA_junio2022'] != 1) & (seleccion['edadA_junio2022'] != -9))\n"
     ]
    }
   ],
   "source": [
    "seleccion = df_alumnos[df_alumnos['jurisdiccion'] == 82]\n",
    "seleccion['ambito'] = np.where(seleccion['ambito'] == 1, True, False)\n",
    "seleccion['edadA_junio2022'] = pd.to_numeric(seleccion['edadA_junio2022'], errors='coerce')\n",
    "seleccion['edadA_junio2022'] = ((seleccion['edadA_junio2022'] != 1) & (seleccion['edadA_junio2022'] != -9))\n",
    "nuevo_data = pd.DataFrame({\n",
    "    'indice': range(len(seleccion)),\n",
    "    'dmat': seleccion['mdesemp'],\n",
    "    'dlen': seleccion['ldesemp'],\n",
    "    'arural': seleccion['ambito'],\n",
    "    'mayor12': seleccion['edadA_junio2022']\n",
    "})\n",
    "asignaciones = {\"1\": \"BAJO\", \"2\": \"BASICO\", \"3\": \"SATISFACTORIO\", \"4\": \"AVANZADO\"}\n",
    "nuevo_data['dmat'] = nuevo_data['dmat'].map(asignaciones)\n",
    "nuevo_data['dlen'] = nuevo_data['dlen'].map(asignaciones)"
   ]
  },
  {
   "cell_type": "code",
   "execution_count": 11,
   "outputs": [
    {
     "data": {
      "text/plain": "        indice           dmat           dlen  arural  mayor12\n3520         0  SATISFACTORIO         BASICO   False     True\n3521         1  SATISFACTORIO  SATISFACTORIO   False     True\n3522         2         BASICO            NaN   False     True\n3523         3  SATISFACTORIO         BASICO   False     True\n3524         4  SATISFACTORIO       AVANZADO   False     True\n...        ...            ...            ...     ...      ...\n128415    7377         BASICO           BAJO   False     True\n128416    7378            NaN            NaN   False     True\n128417    7379            NaN           BAJO   False     True\n128418    7380           BAJO         BASICO   False     True\n128419    7381       AVANZADO  SATISFACTORIO    True     True\n\n[7382 rows x 5 columns]",
      "text/html": "<div>\n<style scoped>\n    .dataframe tbody tr th:only-of-type {\n        vertical-align: middle;\n    }\n\n    .dataframe tbody tr th {\n        vertical-align: top;\n    }\n\n    .dataframe thead th {\n        text-align: right;\n    }\n</style>\n<table border=\"1\" class=\"dataframe\">\n  <thead>\n    <tr style=\"text-align: right;\">\n      <th></th>\n      <th>indice</th>\n      <th>dmat</th>\n      <th>dlen</th>\n      <th>arural</th>\n      <th>mayor12</th>\n    </tr>\n  </thead>\n  <tbody>\n    <tr>\n      <th>3520</th>\n      <td>0</td>\n      <td>SATISFACTORIO</td>\n      <td>BASICO</td>\n      <td>False</td>\n      <td>True</td>\n    </tr>\n    <tr>\n      <th>3521</th>\n      <td>1</td>\n      <td>SATISFACTORIO</td>\n      <td>SATISFACTORIO</td>\n      <td>False</td>\n      <td>True</td>\n    </tr>\n    <tr>\n      <th>3522</th>\n      <td>2</td>\n      <td>BASICO</td>\n      <td>NaN</td>\n      <td>False</td>\n      <td>True</td>\n    </tr>\n    <tr>\n      <th>3523</th>\n      <td>3</td>\n      <td>SATISFACTORIO</td>\n      <td>BASICO</td>\n      <td>False</td>\n      <td>True</td>\n    </tr>\n    <tr>\n      <th>3524</th>\n      <td>4</td>\n      <td>SATISFACTORIO</td>\n      <td>AVANZADO</td>\n      <td>False</td>\n      <td>True</td>\n    </tr>\n    <tr>\n      <th>...</th>\n      <td>...</td>\n      <td>...</td>\n      <td>...</td>\n      <td>...</td>\n      <td>...</td>\n    </tr>\n    <tr>\n      <th>128415</th>\n      <td>7377</td>\n      <td>BASICO</td>\n      <td>BAJO</td>\n      <td>False</td>\n      <td>True</td>\n    </tr>\n    <tr>\n      <th>128416</th>\n      <td>7378</td>\n      <td>NaN</td>\n      <td>NaN</td>\n      <td>False</td>\n      <td>True</td>\n    </tr>\n    <tr>\n      <th>128417</th>\n      <td>7379</td>\n      <td>NaN</td>\n      <td>BAJO</td>\n      <td>False</td>\n      <td>True</td>\n    </tr>\n    <tr>\n      <th>128418</th>\n      <td>7380</td>\n      <td>BAJO</td>\n      <td>BASICO</td>\n      <td>False</td>\n      <td>True</td>\n    </tr>\n    <tr>\n      <th>128419</th>\n      <td>7381</td>\n      <td>AVANZADO</td>\n      <td>SATISFACTORIO</td>\n      <td>True</td>\n      <td>True</td>\n    </tr>\n  </tbody>\n</table>\n<p>7382 rows × 5 columns</p>\n</div>"
     },
     "execution_count": 11,
     "metadata": {},
     "output_type": "execute_result"
    }
   ],
   "source": [
    "nuevo_data"
   ],
   "metadata": {
    "collapsed": false,
    "ExecuteTime": {
     "end_time": "2023-10-14T22:04:00.157502Z",
     "start_time": "2023-10-14T22:04:00.142989Z"
    }
   },
   "id": "adc1780762fdf0b3"
  },
  {
   "cell_type": "code",
   "execution_count": 12,
   "outputs": [],
   "source": [
    "nuevo_data.to_json('Data/ej_8.json', orient='records')"
   ],
   "metadata": {
    "collapsed": false,
    "ExecuteTime": {
     "end_time": "2023-10-14T22:04:06.810643Z",
     "start_time": "2023-10-14T22:04:06.803675Z"
    }
   },
   "id": "cad4265087003649"
  },
  {
   "cell_type": "code",
   "execution_count": null,
   "outputs": [],
   "source": [],
   "metadata": {
    "collapsed": false
   },
   "id": "5d3231f1a92c09a3"
  }
 ],
 "metadata": {
  "kernelspec": {
   "display_name": "Python 3",
   "language": "python",
   "name": "python3"
  },
  "language_info": {
   "codemirror_mode": {
    "name": "ipython",
    "version": 2
   },
   "file_extension": ".py",
   "mimetype": "text/x-python",
   "name": "python",
   "nbconvert_exporter": "python",
   "pygments_lexer": "ipython2",
   "version": "2.7.6"
  }
 },
 "nbformat": 4,
 "nbformat_minor": 5
}
