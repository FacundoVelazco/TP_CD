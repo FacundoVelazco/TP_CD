{
 "cells": [
  {
   "cell_type": "code",
   "execution_count": null,
   "outputs": [],
   "source": [
    "import pandas as pd\n",
    "import matplotlib.pyplot as plt\n",
    "import numpy as np"
   ],
   "metadata": {
    "collapsed": false
   },
   "id": "d6380db74be657c4"
  },
  {
   "cell_type": "code",
   "execution_count": null,
   "outputs": [],
   "source": [
    "df = pd.read_csv('Data/Base Aprender estudiantes 6 primaria 2022 – Muestral L y M.csv',sep=';')"
   ],
   "metadata": {
    "collapsed": false
   },
   "id": "46a6f518e0ea162"
  },
  {
   "cell_type": "code",
   "execution_count": null,
   "outputs": [],
   "source": [
    "df1 = df.iloc[4061:,29]\n",
    "df1.replace(-9,np.nan)\n",
    "df1.replace(-8,np.nan)\n",
    "df1.replace(-6,np.nan)\n",
    "df2 = df1.dropna()\n",
    "\n",
    "fig,ax = plt.subplots()\n",
    "siTienen = df2.value_counts()[1]\n",
    "noTienen = df2.value_counts()[2]\n",
    "ax.pie([siTienen,noTienen],labels=[\"Tienen acceso a internet\",\"No tienen acceso a internet\"],autopct='%1.1f%%',shadow=True)"
   ],
   "metadata": {
    "collapsed": false
   },
   "id": "6a353e99df4fcb8"
  }
 ],
 "metadata": {
  "kernelspec": {
   "display_name": "Python 3",
   "language": "python",
   "name": "python3"
  },
  "language_info": {
   "codemirror_mode": {
    "name": "ipython",
    "version": 2
   },
   "file_extension": ".py",
   "mimetype": "text/x-python",
   "name": "python",
   "nbconvert_exporter": "python",
   "pygments_lexer": "ipython2",
   "version": "2.7.6"
  }
 },
 "nbformat": 4,
 "nbformat_minor": 5
}
