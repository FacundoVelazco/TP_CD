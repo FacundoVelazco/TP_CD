{
 "cells": [
  {
   "cell_type": "code",
   "execution_count": 2,
   "outputs": [],
   "source": [
    "import pandas as pd\n",
    "import matplotlib.pyplot as plt\n",
    "import numpy as np"
   ],
   "metadata": {
    "collapsed": false,
    "ExecuteTime": {
     "end_time": "2023-10-13T19:42:13.484496Z",
     "start_time": "2023-10-13T19:42:12.215415Z"
    }
   },
   "id": "d6380db74be657c4"
  },
  {
   "cell_type": "code",
   "execution_count": 3,
   "outputs": [
    {
     "name": "stderr",
     "output_type": "stream",
     "text": [
      "/var/folders/py/f996dn15339gcpsqq98w6kd80000gn/T/ipykernel_44527/291821548.py:1: DtypeWarning: Columns (6,7,8,9,10,11,12,13,14,15,16,17,18,19,20,21,22,23,24,25,26,27,28,29,30,31,32,33,34,35,36,37,38,39,40,41,42,43,44,45,46,47,48,49,50,51,52,53,54,55,56,57,58,59,60,61,62,63,64,65,66,67,68,69,70,71,72,73,74,75,76,77,78,79,80,81,82,83,84,85,86,87,88,89,90,91,92,93,94,95,96,97,98,99,100,101,111,112,113) have mixed types. Specify dtype option on import or set low_memory=False.\n",
      "  df = pd.read_csv('Data/Base Aprender estudiantes 6 primaria 2022 – Muestral L y M.csv',sep=';')\n"
     ]
    }
   ],
   "source": [
    "df = pd.read_csv('Data/Base Aprender estudiantes 6 primaria 2022 – Muestral L y M.csv',sep=';')"
   ],
   "metadata": {
    "collapsed": false,
    "ExecuteTime": {
     "end_time": "2023-10-13T19:42:15.244946Z",
     "start_time": "2023-10-13T19:42:13.487492Z"
    }
   },
   "id": "46a6f518e0ea162"
  },
  {
   "cell_type": "code",
   "execution_count": 1,
   "outputs": [
    {
     "ename": "NameError",
     "evalue": "name 'df' is not defined",
     "output_type": "error",
     "traceback": [
      "\u001B[0;31m---------------------------------------------------------------------------\u001B[0m",
      "\u001B[0;31mNameError\u001B[0m                                 Traceback (most recent call last)",
      "Cell \u001B[0;32mIn[1], line 1\u001B[0m\n\u001B[0;32m----> 1\u001B[0m df1 \u001B[38;5;241m=\u001B[39m \u001B[43mdf\u001B[49m\u001B[38;5;241m.\u001B[39miloc[\u001B[38;5;241m4061\u001B[39m:,\u001B[38;5;241m29\u001B[39m]\n\u001B[1;32m      2\u001B[0m df1\u001B[38;5;241m.\u001B[39mreplace(\u001B[38;5;241m-\u001B[39m\u001B[38;5;241m9\u001B[39m,np\u001B[38;5;241m.\u001B[39mnan)\n\u001B[1;32m      3\u001B[0m df1\u001B[38;5;241m.\u001B[39mreplace(\u001B[38;5;241m-\u001B[39m\u001B[38;5;241m8\u001B[39m,np\u001B[38;5;241m.\u001B[39mnan)\n",
      "\u001B[0;31mNameError\u001B[0m: name 'df' is not defined"
     ]
    }
   ],
   "source": [
    "df1 = df.iloc[4061:,29]\n",
    "df1.replace(-9,np.nan)\n",
    "df1.replace(-8,np.nan)\n",
    "df1.replace(-6,np.nan)\n",
    "df2 = df1.dropna()\n",
    "\n",
    "fig,ax = plt.subplots()\n",
    "siTienen = df2.value_counts()[1]\n",
    "noTienen = df2.value_counts()[2]\n",
    "ax.pie([siTienen,noTienen],labels=[\"Tienen acceso a internet\",\"No tienen acceso a internet\"],autopct='%1.1f%%',shadow=True)"
   ],
   "metadata": {
    "collapsed": false,
    "ExecuteTime": {
     "end_time": "2023-10-13T21:22:45.158720Z",
     "start_time": "2023-10-13T21:22:44.962997Z"
    }
   },
   "id": "6a353e99df4fcb8"
  },
  {
   "cell_type": "code",
   "execution_count": null,
   "id": "initial_id",
   "metadata": {
    "collapsed": true
   },
   "outputs": [],
   "source": []
  }
 ],
 "metadata": {
  "kernelspec": {
   "display_name": "Python 3",
   "language": "python",
   "name": "python3"
  },
  "language_info": {
   "codemirror_mode": {
    "name": "ipython",
    "version": 2
   },
   "file_extension": ".py",
   "mimetype": "text/x-python",
   "name": "python",
   "nbconvert_exporter": "python",
   "pygments_lexer": "ipython2",
   "version": "2.7.6"
  }
 },
 "nbformat": 4,
 "nbformat_minor": 5
}
